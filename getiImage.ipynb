{
  "nbformat": 4,
  "nbformat_minor": 0,
  "metadata": {
    "colab": {
      "name": "getiImage.ipynb",
      "provenance": [],
      "toc_visible": true,
      "mount_file_id": "1isRCKEiE3tU8Nk9GhuQCZg50MODsDEzw",
      "authorship_tag": "ABX9TyMV6usN/CZ+2thG1pcKW28H",
      "include_colab_link": true
    },
    "kernelspec": {
      "name": "python3",
      "display_name": "Python 3"
    }
  },
  "cells": [
    {
      "cell_type": "markdown",
      "metadata": {
        "id": "view-in-github",
        "colab_type": "text"
      },
      "source": [
        "<a href=\"https://colab.research.google.com/github/shitakata/log/blob/main/getiImage.ipynb\" target=\"_parent\"><img src=\"https://colab.research.google.com/assets/colab-badge.svg\" alt=\"Open In Colab\"/></a>"
      ]
    },
    {
      "cell_type": "code",
      "metadata": {
        "colab": {
          "base_uri": "https://localhost:8080/"
        },
        "id": "x_VfDKAB2moM",
        "outputId": "5166d82f-146b-4243-f53f-4d2c9a806154"
      },
      "source": [
        "!pip install flickrapi"
      ],
      "execution_count": 17,
      "outputs": [
        {
          "output_type": "stream",
          "text": [
            "Requirement already satisfied: flickrapi in /usr/local/lib/python3.7/dist-packages (2.4.0)\n",
            "Requirement already satisfied: requests-oauthlib>=0.4.0 in /usr/local/lib/python3.7/dist-packages (from flickrapi) (1.3.0)\n",
            "Requirement already satisfied: requests-toolbelt>=0.3.1 in /usr/local/lib/python3.7/dist-packages (from flickrapi) (0.9.1)\n",
            "Requirement already satisfied: six>=1.5.2 in /usr/local/lib/python3.7/dist-packages (from flickrapi) (1.15.0)\n",
            "Requirement already satisfied: requests>=2.2.1 in /usr/local/lib/python3.7/dist-packages (from flickrapi) (2.23.0)\n",
            "Requirement already satisfied: oauthlib>=3.0.0 in /usr/local/lib/python3.7/dist-packages (from requests-oauthlib>=0.4.0->flickrapi) (3.1.0)\n",
            "Requirement already satisfied: chardet<4,>=3.0.2 in /usr/local/lib/python3.7/dist-packages (from requests>=2.2.1->flickrapi) (3.0.4)\n",
            "Requirement already satisfied: idna<3,>=2.5 in /usr/local/lib/python3.7/dist-packages (from requests>=2.2.1->flickrapi) (2.10)\n",
            "Requirement already satisfied: urllib3!=1.25.0,!=1.25.1,<1.26,>=1.21.1 in /usr/local/lib/python3.7/dist-packages (from requests>=2.2.1->flickrapi) (1.24.3)\n",
            "Requirement already satisfied: certifi>=2017.4.17 in /usr/local/lib/python3.7/dist-packages (from requests>=2.2.1->flickrapi) (2020.12.5)\n"
          ],
          "name": "stdout"
        }
      ]
    },
    {
      "cell_type": "code",
      "metadata": {
        "colab": {
          "base_uri": "https://localhost:8080/"
        },
        "id": "V8sgtenpLXdH",
        "outputId": "bf1495b1-7274-4d86-c03a-afb591f9d1a1"
      },
      "source": [
        "from google.colab import drive \r\n",
        "drive.mount('/content/drive')"
      ],
      "execution_count": 18,
      "outputs": [
        {
          "output_type": "stream",
          "text": [
            "Drive already mounted at /content/drive; to attempt to forcibly remount, call drive.mount(\"/content/drive\", force_remount=True).\n"
          ],
          "name": "stdout"
        }
      ]
    },
    {
      "cell_type": "code",
      "metadata": {
        "colab": {
          "base_uri": "https://localhost:8080/"
        },
        "id": "DRriMj938lDC",
        "outputId": "aae6487e-f0b9-4f0a-8ed6-075e7b50c0f9"
      },
      "source": [
        "%cd drive/MyDrive/dcgan/"
      ],
      "execution_count": 20,
      "outputs": [
        {
          "output_type": "stream",
          "text": [
            "/content/drive/MyDrive/dcgan\n"
          ],
          "name": "stdout"
        }
      ]
    },
    {
      "cell_type": "code",
      "metadata": {
        "colab": {
          "base_uri": "https://localhost:8080/"
        },
        "id": "eVOnPBsR8uvp",
        "outputId": "f087bb8c-abe2-46f7-bce8-5d206fe8ab63"
      },
      "source": [
        "ls"
      ],
      "execution_count": 21,
      "outputs": [
        {
          "output_type": "stream",
          "text": [
            "dcgan_image.ipynb  getiImage.ipynb\n"
          ],
          "name": "stdout"
        }
      ]
    },
    {
      "cell_type": "code",
      "metadata": {
        "id": "zkykx9e9668W"
      },
      "source": [
        "from flickrapi import FlickrAPI\r\n",
        "from urllib.request import urlretrieve\r\n",
        "import os, time, sys\r\n",
        "from tqdm import tqdm"
      ],
      "execution_count": 22,
      "outputs": []
    },
    {
      "cell_type": "code",
      "metadata": {
        "id": "dsq-NMnu6_Bu"
      },
      "source": [
        "API_KEY =  \"\"\r\n",
        "SECRET =  \"\""
      ],
      "execution_count": 23,
      "outputs": []
    },
    {
      "cell_type": "code",
      "metadata": {
        "id": "L27IvgrH7727"
      },
      "source": [
        "keyword = \"mountain\""
      ],
      "execution_count": 24,
      "outputs": []
    },
    {
      "cell_type": "code",
      "metadata": {
        "id": "A4S9evImN05O"
      },
      "source": [
        "PER_PAGE = 30 # ダウンロードする画像の枚数\r\n",
        "\r\n",
        "wait_time = 0.5 # インターバル"
      ],
      "execution_count": 25,
      "outputs": []
    },
    {
      "cell_type": "code",
      "metadata": {
        "colab": {
          "base_uri": "https://localhost:8080/"
        },
        "id": "uRj5tiS_NIXQ",
        "outputId": "170e2886-33f2-4f9a-fd7f-3824ca014f29"
      },
      "source": [
        "if len(sys.argv) < 2:\r\n",
        "    print('ダウンロードする画像のキーワードが未定です。')\r\n",
        "else:\r\n",
        "    # ダウンロードする画像のキーワードを取得する\r\n",
        "    #keyword = sys.argv[1]\r\n",
        "    savedir = \"/content/\" + keyword\r\n",
        "\r\n",
        "    #キーワードのフォルダがなければ作成\r\n",
        "    if os.path.exists(savedir) == False:\r\n",
        "      os.mkdir(keyword)\r\n",
        "\r\n",
        "    # FlickrAPIを使って画像情報を取得する\r\n",
        "    flickr = FlickrAPI(API_KEY, SECRET, format='parsed-json')\r\n",
        "    result = flickr.photos.search(\r\n",
        "        text = keyword, # 画像検索用のキーワード\r\n",
        "        per_page = PER_PAGE, # 取得する画像の枚数\r\n",
        "        media = 'photos',\r\n",
        "        sort = 'relevance', # 「関連度が高い順」を指定\r\n",
        "        safe_search = 1, # 1=「不適切コンテンツの除外」を指定\r\n",
        "        extras = 'url_q, licence' # 追加で取得したい情報の指定\r\n",
        "    )\r\n",
        "    # プログレスバーの作成\r\n",
        "\r\n",
        "    pbar = tqdm(range(len(result['photos']['photo'])))\r\n",
        "\r\n",
        "    # URLが存在しなくてダウンロードできない画像をカウント\r\n",
        "    er = 0\r\n",
        "    for photo, i in zip(result['photos']['photo'], pbar):\r\n",
        "        try:\r\n",
        "            # 画像のURLを取得\r\n",
        "            url_q =  photo['url_q']\r\n",
        "            # 保存するファイル名を作成\r\n",
        "            filepath = savedir + '/' + photo['id'] + '.jpg'\r\n",
        "            # すでにファイルが存在するときには何もしない\r\n",
        "            if os.path.exists(filepath): continue\r\n",
        "            #画像をダウンロードする\r\n",
        "            urlretrieve(url_q, filepath)\r\n",
        "            # インターバルを空ける\r\n",
        "            time.sleep(wait_time)\r\n",
        "        except:\r\n",
        "            # 画像のURLが存在しない\r\n",
        "            er += 1\r\n",
        "            continue\r\n",
        "\r\n",
        "        #結果の表示\r\n",
        "        pbar.update()\r\n",
        "        print('ダウンロード数:'+str(i+1))\r\n",
        "        if 0 < er:\r\n",
        "            print('URLの情報なし:'+str(er))\r\n"
      ],
      "execution_count": 27,
      "outputs": [
        {
          "output_type": "stream",
          "text": [
            "\n",
            "\n",
            "\n",
            "\n",
            "\n",
            "  0%|          | 0/30 [00:00<?, ?it/s]\u001b[A\u001b[A\u001b[A\u001b[A\u001b[A"
          ],
          "name": "stderr"
        }
      ]
    },
    {
      "cell_type": "code",
      "metadata": {
        "id": "xrgrqmyckQ7M"
      },
      "source": [
        ""
      ],
      "execution_count": null,
      "outputs": []
    }
  ]
}
