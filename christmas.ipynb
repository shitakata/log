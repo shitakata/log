{
  "nbformat": 4,
  "nbformat_minor": 0,
  "metadata": {
    "colab": {
      "name": "christmas.ipynb",
      "provenance": [],
      "authorship_tag": "ABX9TyPE1QotIEeCimAswzSdfKGr"
    },
    "kernelspec": {
      "name": "python3",
      "display_name": "Python 3"
    }
  },
  "cells": [
    {
      "cell_type": "code",
      "metadata": {
        "colab": {
          "base_uri": "https://localhost:8080/"
        },
        "id": "KbTV1gUFwrBb",
        "outputId": "fadf9207-bbfb-45d3-99dd-5eea66e6b599"
      },
      "source": [
        "for i in range(8):\r\n",
        "  c=\"*\"*(2*i+1)\r\n",
        "  print(c.center(15))\r\n",
        "for i in range(2):\r\n",
        "  print(\"**\".center(15))\r\n",
        "print(\"Merry Christmas!\")"
      ],
      "execution_count": null,
      "outputs": [
        {
          "output_type": "stream",
          "text": [
            "       *       \n",
            "      ***      \n",
            "     *****     \n",
            "    *******    \n",
            "   *********   \n",
            "  ***********  \n",
            " ************* \n",
            "***************\n",
            "       **      \n",
            "       **      \n",
            "Merry Christmas!\n"
          ],
          "name": "stdout"
        }
      ]
    },
    {
      "cell_type": "code",
      "metadata": {
        "id": "VucQEzPG_ept"
      },
      "source": [
        ""
      ],
      "execution_count": null,
      "outputs": []
    }
  ]
}